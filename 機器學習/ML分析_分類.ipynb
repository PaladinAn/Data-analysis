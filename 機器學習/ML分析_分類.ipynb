{
 "cells": [
  {
   "cell_type": "code",
   "execution_count": 53,
   "id": "8e2c010d-042a-42d7-a367-3e2df1baff69",
   "metadata": {},
   "outputs": [],
   "source": [
    "import numpy as np\n",
    "import pandas as pd\n",
    "import matplotlib.pyplot as plt\n",
    "import seaborn as sns           # 升級繪圖"
   ]
  },
  {
   "cell_type": "code",
   "execution_count": 54,
   "id": "845d2526-9e6f-49e1-8b8f-590d23c0216e",
   "metadata": {},
   "outputs": [
    {
     "data": {
      "text/html": [
       "<div>\n",
       "<style scoped>\n",
       "    .dataframe tbody tr th:only-of-type {\n",
       "        vertical-align: middle;\n",
       "    }\n",
       "\n",
       "    .dataframe tbody tr th {\n",
       "        vertical-align: top;\n",
       "    }\n",
       "\n",
       "    .dataframe thead th {\n",
       "        text-align: right;\n",
       "    }\n",
       "</style>\n",
       "<table border=\"1\" class=\"dataframe\">\n",
       "  <thead>\n",
       "    <tr style=\"text-align: right;\">\n",
       "      <th></th>\n",
       "      <th>Id</th>\n",
       "      <th>SepalLengthCm</th>\n",
       "      <th>SepalWidthCm</th>\n",
       "      <th>PetalLengthCm</th>\n",
       "      <th>PetalWidthCm</th>\n",
       "      <th>Species</th>\n",
       "    </tr>\n",
       "  </thead>\n",
       "  <tbody>\n",
       "    <tr>\n",
       "      <th>0</th>\n",
       "      <td>1</td>\n",
       "      <td>5.1</td>\n",
       "      <td>3.5</td>\n",
       "      <td>1.4</td>\n",
       "      <td>0.2</td>\n",
       "      <td>Iris-setosa</td>\n",
       "    </tr>\n",
       "    <tr>\n",
       "      <th>1</th>\n",
       "      <td>2</td>\n",
       "      <td>4.9</td>\n",
       "      <td>3.0</td>\n",
       "      <td>1.4</td>\n",
       "      <td>0.2</td>\n",
       "      <td>Iris-setosa</td>\n",
       "    </tr>\n",
       "    <tr>\n",
       "      <th>2</th>\n",
       "      <td>3</td>\n",
       "      <td>4.7</td>\n",
       "      <td>3.2</td>\n",
       "      <td>1.3</td>\n",
       "      <td>0.2</td>\n",
       "      <td>Iris-setosa</td>\n",
       "    </tr>\n",
       "    <tr>\n",
       "      <th>3</th>\n",
       "      <td>4</td>\n",
       "      <td>4.6</td>\n",
       "      <td>3.1</td>\n",
       "      <td>1.5</td>\n",
       "      <td>0.2</td>\n",
       "      <td>Iris-setosa</td>\n",
       "    </tr>\n",
       "    <tr>\n",
       "      <th>4</th>\n",
       "      <td>5</td>\n",
       "      <td>5.0</td>\n",
       "      <td>3.6</td>\n",
       "      <td>1.4</td>\n",
       "      <td>0.2</td>\n",
       "      <td>Iris-setosa</td>\n",
       "    </tr>\n",
       "  </tbody>\n",
       "</table>\n",
       "</div>"
      ],
      "text/plain": [
       "   Id  SepalLengthCm  SepalWidthCm  PetalLengthCm  PetalWidthCm      Species\n",
       "0   1            5.1           3.5            1.4           0.2  Iris-setosa\n",
       "1   2            4.9           3.0            1.4           0.2  Iris-setosa\n",
       "2   3            4.7           3.2            1.3           0.2  Iris-setosa\n",
       "3   4            4.6           3.1            1.5           0.2  Iris-setosa\n",
       "4   5            5.0           3.6            1.4           0.2  Iris-setosa"
      ]
     },
     "execution_count": 54,
     "metadata": {},
     "output_type": "execute_result"
    }
   ],
   "source": [
    "df = pd.read_csv('./Iris.csv')\n",
    "df.head(5)"
   ]
  },
  {
   "cell_type": "code",
   "execution_count": 55,
   "id": "e53f1487-b630-4c1b-81d2-895cb6718e89",
   "metadata": {},
   "outputs": [
    {
     "data": {
      "text/plain": [
       "Id               0\n",
       "SepalLengthCm    0\n",
       "SepalWidthCm     0\n",
       "PetalLengthCm    0\n",
       "PetalWidthCm     0\n",
       "Species          0\n",
       "dtype: int64"
      ]
     },
     "execution_count": 55,
     "metadata": {},
     "output_type": "execute_result"
    }
   ],
   "source": [
    "df.isna().sum()"
   ]
  },
  {
   "cell_type": "code",
   "execution_count": 56,
   "id": "9aee69f9-6524-427d-8f55-742384dcc45b",
   "metadata": {},
   "outputs": [
    {
     "data": {
      "text/html": [
       "<div>\n",
       "<style scoped>\n",
       "    .dataframe tbody tr th:only-of-type {\n",
       "        vertical-align: middle;\n",
       "    }\n",
       "\n",
       "    .dataframe tbody tr th {\n",
       "        vertical-align: top;\n",
       "    }\n",
       "\n",
       "    .dataframe thead th {\n",
       "        text-align: right;\n",
       "    }\n",
       "</style>\n",
       "<table border=\"1\" class=\"dataframe\">\n",
       "  <thead>\n",
       "    <tr style=\"text-align: right;\">\n",
       "      <th></th>\n",
       "      <th>Id</th>\n",
       "      <th>SepalLengthCm</th>\n",
       "      <th>SepalWidthCm</th>\n",
       "      <th>PetalLengthCm</th>\n",
       "      <th>PetalWidthCm</th>\n",
       "    </tr>\n",
       "  </thead>\n",
       "  <tbody>\n",
       "    <tr>\n",
       "      <th>count</th>\n",
       "      <td>150.000000</td>\n",
       "      <td>150.000000</td>\n",
       "      <td>150.000000</td>\n",
       "      <td>150.000000</td>\n",
       "      <td>150.000000</td>\n",
       "    </tr>\n",
       "    <tr>\n",
       "      <th>mean</th>\n",
       "      <td>75.500000</td>\n",
       "      <td>5.843333</td>\n",
       "      <td>3.054000</td>\n",
       "      <td>3.758667</td>\n",
       "      <td>1.198667</td>\n",
       "    </tr>\n",
       "    <tr>\n",
       "      <th>std</th>\n",
       "      <td>43.445368</td>\n",
       "      <td>0.828066</td>\n",
       "      <td>0.433594</td>\n",
       "      <td>1.764420</td>\n",
       "      <td>0.763161</td>\n",
       "    </tr>\n",
       "    <tr>\n",
       "      <th>min</th>\n",
       "      <td>1.000000</td>\n",
       "      <td>4.300000</td>\n",
       "      <td>2.000000</td>\n",
       "      <td>1.000000</td>\n",
       "      <td>0.100000</td>\n",
       "    </tr>\n",
       "    <tr>\n",
       "      <th>25%</th>\n",
       "      <td>38.250000</td>\n",
       "      <td>5.100000</td>\n",
       "      <td>2.800000</td>\n",
       "      <td>1.600000</td>\n",
       "      <td>0.300000</td>\n",
       "    </tr>\n",
       "    <tr>\n",
       "      <th>50%</th>\n",
       "      <td>75.500000</td>\n",
       "      <td>5.800000</td>\n",
       "      <td>3.000000</td>\n",
       "      <td>4.350000</td>\n",
       "      <td>1.300000</td>\n",
       "    </tr>\n",
       "    <tr>\n",
       "      <th>75%</th>\n",
       "      <td>112.750000</td>\n",
       "      <td>6.400000</td>\n",
       "      <td>3.300000</td>\n",
       "      <td>5.100000</td>\n",
       "      <td>1.800000</td>\n",
       "    </tr>\n",
       "    <tr>\n",
       "      <th>max</th>\n",
       "      <td>150.000000</td>\n",
       "      <td>7.900000</td>\n",
       "      <td>4.400000</td>\n",
       "      <td>6.900000</td>\n",
       "      <td>2.500000</td>\n",
       "    </tr>\n",
       "  </tbody>\n",
       "</table>\n",
       "</div>"
      ],
      "text/plain": [
       "               Id  SepalLengthCm  SepalWidthCm  PetalLengthCm  PetalWidthCm\n",
       "count  150.000000     150.000000    150.000000     150.000000    150.000000\n",
       "mean    75.500000       5.843333      3.054000       3.758667      1.198667\n",
       "std     43.445368       0.828066      0.433594       1.764420      0.763161\n",
       "min      1.000000       4.300000      2.000000       1.000000      0.100000\n",
       "25%     38.250000       5.100000      2.800000       1.600000      0.300000\n",
       "50%     75.500000       5.800000      3.000000       4.350000      1.300000\n",
       "75%    112.750000       6.400000      3.300000       5.100000      1.800000\n",
       "max    150.000000       7.900000      4.400000       6.900000      2.500000"
      ]
     },
     "execution_count": 56,
     "metadata": {},
     "output_type": "execute_result"
    }
   ],
   "source": [
    "df.describe()"
   ]
  },
  {
   "cell_type": "markdown",
   "id": "afee6e65-213a-4b56-b1e5-d27fe2da8113",
   "metadata": {},
   "source": [
    "# 資料前處裡\n",
    "- 名目數據編碼(虛擬變數)\n",
    "- 手動\n",
    "    - 先設定 變數={'': ,....}\n",
    "    - .map(變數)\n",
    "- 自動1(無順序，One-hot-encoding)\n",
    "    - df['新欄位'] = pd.get_dummies(df, columns = ['欄位名稱'])\n",
    "- 自動2(有順序，類似手動，Label encoding)\n",
    "    - from sklearn.preprocessing import LabelEncoder\n",
    "        - for i in 資料df:\n",
    "            - le = LabelEncoder()\n",
    "            - df['新欄位'] = le.fit_transform(資料['Species'])"
   ]
  },
  {
   "cell_type": "code",
   "execution_count": 57,
   "id": "1ae4b151-005e-4f49-86c5-7704e910fa0d",
   "metadata": {},
   "outputs": [],
   "source": [
    "from sklearn.preprocessing import LabelEncoder"
   ]
  },
  {
   "cell_type": "code",
   "execution_count": 58,
   "id": "ed8d721f-a1a3-409f-ad61-e0cfc162799a",
   "metadata": {},
   "outputs": [],
   "source": [
    "for i in df:\n",
    "    le = LabelEncoder()\n",
    "    df['Class'] = le.fit_transform(df['Species'])"
   ]
  },
  {
   "cell_type": "code",
   "execution_count": 59,
   "id": "9a135c1b-6fae-4adc-91ce-da4a6e58057c",
   "metadata": {},
   "outputs": [
    {
     "data": {
      "text/html": [
       "<div>\n",
       "<style scoped>\n",
       "    .dataframe tbody tr th:only-of-type {\n",
       "        vertical-align: middle;\n",
       "    }\n",
       "\n",
       "    .dataframe tbody tr th {\n",
       "        vertical-align: top;\n",
       "    }\n",
       "\n",
       "    .dataframe thead th {\n",
       "        text-align: right;\n",
       "    }\n",
       "</style>\n",
       "<table border=\"1\" class=\"dataframe\">\n",
       "  <thead>\n",
       "    <tr style=\"text-align: right;\">\n",
       "      <th></th>\n",
       "      <th>Id</th>\n",
       "      <th>SepalLengthCm</th>\n",
       "      <th>SepalWidthCm</th>\n",
       "      <th>PetalLengthCm</th>\n",
       "      <th>PetalWidthCm</th>\n",
       "      <th>Species</th>\n",
       "      <th>Class</th>\n",
       "    </tr>\n",
       "  </thead>\n",
       "  <tbody>\n",
       "    <tr>\n",
       "      <th>0</th>\n",
       "      <td>1</td>\n",
       "      <td>5.1</td>\n",
       "      <td>3.5</td>\n",
       "      <td>1.4</td>\n",
       "      <td>0.2</td>\n",
       "      <td>Iris-setosa</td>\n",
       "      <td>0</td>\n",
       "    </tr>\n",
       "    <tr>\n",
       "      <th>1</th>\n",
       "      <td>2</td>\n",
       "      <td>4.9</td>\n",
       "      <td>3.0</td>\n",
       "      <td>1.4</td>\n",
       "      <td>0.2</td>\n",
       "      <td>Iris-setosa</td>\n",
       "      <td>0</td>\n",
       "    </tr>\n",
       "    <tr>\n",
       "      <th>2</th>\n",
       "      <td>3</td>\n",
       "      <td>4.7</td>\n",
       "      <td>3.2</td>\n",
       "      <td>1.3</td>\n",
       "      <td>0.2</td>\n",
       "      <td>Iris-setosa</td>\n",
       "      <td>0</td>\n",
       "    </tr>\n",
       "    <tr>\n",
       "      <th>3</th>\n",
       "      <td>4</td>\n",
       "      <td>4.6</td>\n",
       "      <td>3.1</td>\n",
       "      <td>1.5</td>\n",
       "      <td>0.2</td>\n",
       "      <td>Iris-setosa</td>\n",
       "      <td>0</td>\n",
       "    </tr>\n",
       "    <tr>\n",
       "      <th>4</th>\n",
       "      <td>5</td>\n",
       "      <td>5.0</td>\n",
       "      <td>3.6</td>\n",
       "      <td>1.4</td>\n",
       "      <td>0.2</td>\n",
       "      <td>Iris-setosa</td>\n",
       "      <td>0</td>\n",
       "    </tr>\n",
       "    <tr>\n",
       "      <th>...</th>\n",
       "      <td>...</td>\n",
       "      <td>...</td>\n",
       "      <td>...</td>\n",
       "      <td>...</td>\n",
       "      <td>...</td>\n",
       "      <td>...</td>\n",
       "      <td>...</td>\n",
       "    </tr>\n",
       "    <tr>\n",
       "      <th>145</th>\n",
       "      <td>146</td>\n",
       "      <td>6.7</td>\n",
       "      <td>3.0</td>\n",
       "      <td>5.2</td>\n",
       "      <td>2.3</td>\n",
       "      <td>Iris-virginica</td>\n",
       "      <td>2</td>\n",
       "    </tr>\n",
       "    <tr>\n",
       "      <th>146</th>\n",
       "      <td>147</td>\n",
       "      <td>6.3</td>\n",
       "      <td>2.5</td>\n",
       "      <td>5.0</td>\n",
       "      <td>1.9</td>\n",
       "      <td>Iris-virginica</td>\n",
       "      <td>2</td>\n",
       "    </tr>\n",
       "    <tr>\n",
       "      <th>147</th>\n",
       "      <td>148</td>\n",
       "      <td>6.5</td>\n",
       "      <td>3.0</td>\n",
       "      <td>5.2</td>\n",
       "      <td>2.0</td>\n",
       "      <td>Iris-virginica</td>\n",
       "      <td>2</td>\n",
       "    </tr>\n",
       "    <tr>\n",
       "      <th>148</th>\n",
       "      <td>149</td>\n",
       "      <td>6.2</td>\n",
       "      <td>3.4</td>\n",
       "      <td>5.4</td>\n",
       "      <td>2.3</td>\n",
       "      <td>Iris-virginica</td>\n",
       "      <td>2</td>\n",
       "    </tr>\n",
       "    <tr>\n",
       "      <th>149</th>\n",
       "      <td>150</td>\n",
       "      <td>5.9</td>\n",
       "      <td>3.0</td>\n",
       "      <td>5.1</td>\n",
       "      <td>1.8</td>\n",
       "      <td>Iris-virginica</td>\n",
       "      <td>2</td>\n",
       "    </tr>\n",
       "  </tbody>\n",
       "</table>\n",
       "<p>150 rows × 7 columns</p>\n",
       "</div>"
      ],
      "text/plain": [
       "      Id  SepalLengthCm  SepalWidthCm  PetalLengthCm  PetalWidthCm  \\\n",
       "0      1            5.1           3.5            1.4           0.2   \n",
       "1      2            4.9           3.0            1.4           0.2   \n",
       "2      3            4.7           3.2            1.3           0.2   \n",
       "3      4            4.6           3.1            1.5           0.2   \n",
       "4      5            5.0           3.6            1.4           0.2   \n",
       "..   ...            ...           ...            ...           ...   \n",
       "145  146            6.7           3.0            5.2           2.3   \n",
       "146  147            6.3           2.5            5.0           1.9   \n",
       "147  148            6.5           3.0            5.2           2.0   \n",
       "148  149            6.2           3.4            5.4           2.3   \n",
       "149  150            5.9           3.0            5.1           1.8   \n",
       "\n",
       "            Species  Class  \n",
       "0       Iris-setosa      0  \n",
       "1       Iris-setosa      0  \n",
       "2       Iris-setosa      0  \n",
       "3       Iris-setosa      0  \n",
       "4       Iris-setosa      0  \n",
       "..              ...    ...  \n",
       "145  Iris-virginica      2  \n",
       "146  Iris-virginica      2  \n",
       "147  Iris-virginica      2  \n",
       "148  Iris-virginica      2  \n",
       "149  Iris-virginica      2  \n",
       "\n",
       "[150 rows x 7 columns]"
      ]
     },
     "execution_count": 59,
     "metadata": {},
     "output_type": "execute_result"
    }
   ],
   "source": [
    "df"
   ]
  },
  {
   "cell_type": "code",
   "execution_count": null,
   "id": "552cdc12-21f6-44e8-ba50-bd35bf2de2c4",
   "metadata": {},
   "outputs": [],
   "source": [
    "#手動方法\n",
    "# 調整 Species 的值 改成 012 ，讓決策樹可以計算\n",
    "label_map = {'Iris-setosa': 0, 'Iris-versicolor': 1, 'Iris-virginica': 2}\n",
    "\n",
    "#將編碼後的label map存至df_data['Species']中。\n",
    "df['Class'] = df['Species'].map(label_map)"
   ]
  },
  {
   "cell_type": "code",
   "execution_count": 60,
   "id": "2d26425c-b9da-41cb-8ad9-a7c7fc29464d",
   "metadata": {},
   "outputs": [],
   "source": [
    "df = df.drop(columns=['Id', 'Species'])"
   ]
  },
  {
   "cell_type": "code",
   "execution_count": 61,
   "id": "db5b6d19-3a29-433a-923b-8abb9fbc5f83",
   "metadata": {},
   "outputs": [
    {
     "data": {
      "text/html": [
       "<div>\n",
       "<style scoped>\n",
       "    .dataframe tbody tr th:only-of-type {\n",
       "        vertical-align: middle;\n",
       "    }\n",
       "\n",
       "    .dataframe tbody tr th {\n",
       "        vertical-align: top;\n",
       "    }\n",
       "\n",
       "    .dataframe thead th {\n",
       "        text-align: right;\n",
       "    }\n",
       "</style>\n",
       "<table border=\"1\" class=\"dataframe\">\n",
       "  <thead>\n",
       "    <tr style=\"text-align: right;\">\n",
       "      <th></th>\n",
       "      <th>SepalLengthCm</th>\n",
       "      <th>SepalWidthCm</th>\n",
       "      <th>PetalLengthCm</th>\n",
       "      <th>PetalWidthCm</th>\n",
       "      <th>Class</th>\n",
       "    </tr>\n",
       "  </thead>\n",
       "  <tbody>\n",
       "    <tr>\n",
       "      <th>0</th>\n",
       "      <td>5.1</td>\n",
       "      <td>3.5</td>\n",
       "      <td>1.4</td>\n",
       "      <td>0.2</td>\n",
       "      <td>0</td>\n",
       "    </tr>\n",
       "    <tr>\n",
       "      <th>1</th>\n",
       "      <td>4.9</td>\n",
       "      <td>3.0</td>\n",
       "      <td>1.4</td>\n",
       "      <td>0.2</td>\n",
       "      <td>0</td>\n",
       "    </tr>\n",
       "    <tr>\n",
       "      <th>2</th>\n",
       "      <td>4.7</td>\n",
       "      <td>3.2</td>\n",
       "      <td>1.3</td>\n",
       "      <td>0.2</td>\n",
       "      <td>0</td>\n",
       "    </tr>\n",
       "    <tr>\n",
       "      <th>3</th>\n",
       "      <td>4.6</td>\n",
       "      <td>3.1</td>\n",
       "      <td>1.5</td>\n",
       "      <td>0.2</td>\n",
       "      <td>0</td>\n",
       "    </tr>\n",
       "    <tr>\n",
       "      <th>4</th>\n",
       "      <td>5.0</td>\n",
       "      <td>3.6</td>\n",
       "      <td>1.4</td>\n",
       "      <td>0.2</td>\n",
       "      <td>0</td>\n",
       "    </tr>\n",
       "    <tr>\n",
       "      <th>...</th>\n",
       "      <td>...</td>\n",
       "      <td>...</td>\n",
       "      <td>...</td>\n",
       "      <td>...</td>\n",
       "      <td>...</td>\n",
       "    </tr>\n",
       "    <tr>\n",
       "      <th>145</th>\n",
       "      <td>6.7</td>\n",
       "      <td>3.0</td>\n",
       "      <td>5.2</td>\n",
       "      <td>2.3</td>\n",
       "      <td>2</td>\n",
       "    </tr>\n",
       "    <tr>\n",
       "      <th>146</th>\n",
       "      <td>6.3</td>\n",
       "      <td>2.5</td>\n",
       "      <td>5.0</td>\n",
       "      <td>1.9</td>\n",
       "      <td>2</td>\n",
       "    </tr>\n",
       "    <tr>\n",
       "      <th>147</th>\n",
       "      <td>6.5</td>\n",
       "      <td>3.0</td>\n",
       "      <td>5.2</td>\n",
       "      <td>2.0</td>\n",
       "      <td>2</td>\n",
       "    </tr>\n",
       "    <tr>\n",
       "      <th>148</th>\n",
       "      <td>6.2</td>\n",
       "      <td>3.4</td>\n",
       "      <td>5.4</td>\n",
       "      <td>2.3</td>\n",
       "      <td>2</td>\n",
       "    </tr>\n",
       "    <tr>\n",
       "      <th>149</th>\n",
       "      <td>5.9</td>\n",
       "      <td>3.0</td>\n",
       "      <td>5.1</td>\n",
       "      <td>1.8</td>\n",
       "      <td>2</td>\n",
       "    </tr>\n",
       "  </tbody>\n",
       "</table>\n",
       "<p>150 rows × 5 columns</p>\n",
       "</div>"
      ],
      "text/plain": [
       "     SepalLengthCm  SepalWidthCm  PetalLengthCm  PetalWidthCm  Class\n",
       "0              5.1           3.5            1.4           0.2      0\n",
       "1              4.9           3.0            1.4           0.2      0\n",
       "2              4.7           3.2            1.3           0.2      0\n",
       "3              4.6           3.1            1.5           0.2      0\n",
       "4              5.0           3.6            1.4           0.2      0\n",
       "..             ...           ...            ...           ...    ...\n",
       "145            6.7           3.0            5.2           2.3      2\n",
       "146            6.3           2.5            5.0           1.9      2\n",
       "147            6.5           3.0            5.2           2.0      2\n",
       "148            6.2           3.4            5.4           2.3      2\n",
       "149            5.9           3.0            5.1           1.8      2\n",
       "\n",
       "[150 rows x 5 columns]"
      ]
     },
     "execution_count": 61,
     "metadata": {},
     "output_type": "execute_result"
    }
   ],
   "source": [
    "df"
   ]
  },
  {
   "cell_type": "markdown",
   "id": "36e3f63c-70e6-455d-ba74-d9e93a411648",
   "metadata": {},
   "source": [
    "- 設定\n",
    "- 使用.value()可以只取值\n",
    "    - X(特徵資料，不含label、不含標籤資料)\n",
    "    - Y(定欄位的標籤資料，不含label)"
   ]
  },
  {
   "cell_type": "code",
   "execution_count": 62,
   "id": "4627fbd7-42bd-4bf3-ab7c-f53fca127925",
   "metadata": {},
   "outputs": [],
   "source": [
    "x = df.drop(labels=['Class'], axis=1).values"
   ]
  },
  {
   "cell_type": "code",
   "execution_count": 63,
   "id": "e4efc45c-eff2-49ac-b274-e41f1f760550",
   "metadata": {},
   "outputs": [],
   "source": [
    "y = df['Class'].values"
   ]
  },
  {
   "cell_type": "markdown",
   "id": "368aeb7c-6afd-4cf7-bd5b-38a204dbd34f",
   "metadata": {},
   "source": [
    "# 模型\n",
    "- 高級視覺化\n",
    "- seaborn.lmplot() \n",
    "    - 函式使用給定的資料在 FacetGrid 上建立一個基本的散點圖。\n",
    "    - 還可用於通過在圖中繪製可選的迴歸線\n",
    "        - sns.lmplot('label01', \"label02\", hue='分類依據', data=, fit_reg=False)\n",
    "        - 趨勢線功能:fit_reg=\n",
    "- cmap: 颜色區分"
   ]
  },
  {
   "cell_type": "markdown",
   "id": "cde759bc-cdb4-4060-9794-5041e6a85ff2",
   "metadata": {
    "tags": []
   },
   "source": [
    "### K-means(屬於非監督學習)"
   ]
  },
  {
   "cell_type": "code",
   "execution_count": 64,
   "id": "778f96af-2677-4f58-b93e-befa5bc1ce9a",
   "metadata": {},
   "outputs": [],
   "source": [
    "from sklearn.cluster import KMeans"
   ]
  },
  {
   "cell_type": "code",
   "execution_count": 65,
   "id": "4cdb6152-662f-4002-997a-5e015d145cef",
   "metadata": {},
   "outputs": [],
   "source": [
    "KM = KMeans(n_clusters=3, random_state=50)"
   ]
  },
  {
   "cell_type": "code",
   "execution_count": 66,
   "id": "042ba02b-ad11-4f64-9108-a2ec22e0ab7b",
   "metadata": {},
   "outputs": [],
   "source": [
    "K_fit = KM.fit_predict(x)"
   ]
  },
  {
   "cell_type": "code",
   "execution_count": 67,
   "id": "e0a2fd33-b9ce-4d4b-b9ee-184a8421604e",
   "metadata": {},
   "outputs": [
    {
     "name": "stderr",
     "output_type": "stream",
     "text": [
      "C:\\Users\\user\\anaconda3\\lib\\site-packages\\seaborn\\_decorators.py:36: FutureWarning: Pass the following variables as keyword args: x, y. From version 0.12, the only valid positional argument will be `data`, and passing other arguments without an explicit keyword will result in an error or misinterpretation.\n",
      "  warnings.warn(\n",
      "C:\\Users\\user\\anaconda3\\lib\\site-packages\\seaborn\\_decorators.py:36: FutureWarning: Pass the following variables as keyword args: x, y. From version 0.12, the only valid positional argument will be `data`, and passing other arguments without an explicit keyword will result in an error or misinterpretation.\n",
      "  warnings.warn(\n"
     ]
    },
    {
     "data": {
      "image/png": "[encoded data removed]",
      "text/plain": [
       "<Figure size 432x288 with 1 Axes>"
      ]
     },
     "metadata": {
      "needs_background": "light"
     },
     "output_type": "display_data"
    },
    {
     "data": {
      "image/png": "[encoded data removed]",
      "text/plain": [
       "<Figure size 402.375x360 with 1 Axes>"
      ]
     },
     "metadata": {
      "needs_background": "light"
     },
     "output_type": "display_data"
    },
    {
     "data": {
      "image/png": "[encoded data removed]",
      "text/plain": [
       "<Figure size 402.5x360 with 1 Axes>"
      ]
     },
     "metadata": {
      "needs_background": "light"
     },
     "output_type": "display_data"
    }
   ],
   "source": [
    "# SepalWidthCm 是第2個；PetalLengthCm 是第3個\n",
    "plt.scatter(x[:, 2], x[:, 3], c=K_fit)  # 低階繪圖\n",
    "\n",
    "df['Predict'] = K_fit\n",
    "sns.lmplot('PetalLengthCm', 'PetalWidthCm', data=df, hue='Class', fit_reg=False)\n",
    "sns.lmplot('PetalLengthCm', 'PetalWidthCm', data=df, hue=\"Predict\", fit_reg=False)\n",
    "\n",
    "centers = KM.cluster_centers_  # 中心點\n",
    "# SepalWidthCm 是第2個；PetalLengthCm 是第3個\n",
    "plt.scatter(centers[:, 2], centers[:, 3], c=\"r\",marker='*', s=200)\n",
    "plt.show()"
   ]
  },
  {
   "cell_type": "markdown",
   "id": "a8c8b9d7-0053-483d-83f5-bf0f98dcfb42",
   "metadata": {
    "tags": []
   },
   "source": [
    "### 決策樹"
   ]
  },
  {
   "cell_type": "code",
   "execution_count": 68,
   "id": "99681d22-3837-45a0-85b9-0ea9612bfcf0",
   "metadata": {},
   "outputs": [],
   "source": [
    "from sklearn.tree import DecisionTreeClassifier"
   ]
  },
  {
   "cell_type": "code",
   "execution_count": 69,
   "id": "634438e3-d608-4528-92dc-bb9d85a640db",
   "metadata": {},
   "outputs": [],
   "source": [
    "from sklearn.model_selection import train_test_split"
   ]
  },
  {
   "cell_type": "code",
   "execution_count": 70,
   "id": "942431b7-fc68-4082-aee4-f55feac84d3d",
   "metadata": {},
   "outputs": [],
   "source": [
    "train_x, test_x, train_y, test_y = train_test_split(x, y, test_size=.3, random_state=50)"
   ]
  },
  {
   "cell_type": "code",
   "execution_count": 71,
   "id": "d5d50e3d-11cf-434b-bdae-a243c690b19a",
   "metadata": {},
   "outputs": [],
   "source": [
    "dec_tree = DecisionTreeClassifier()"
   ]
  },
  {
   "cell_type": "code",
   "execution_count": 72,
   "id": "c23a2603-e200-47d4-9c1b-6928c18c6d40",
   "metadata": {},
   "outputs": [
    {
     "data": {
      "text/plain": [
       "DecisionTreeClassifier()"
      ]
     },
     "execution_count": 72,
     "metadata": {},
     "output_type": "execute_result"
    }
   ],
   "source": [
    "dec_tree.fit(train_x, train_y)"
   ]
  },
  {
   "cell_type": "code",
   "execution_count": 73,
   "id": "80675f40-46a8-46a3-9df7-c18e806e3627",
   "metadata": {},
   "outputs": [],
   "source": [
    "tree_pt = dec_tree.predict(train_x)    # 繪圖用的"
   ]
  },
  {
   "cell_type": "code",
   "execution_count": 74,
   "id": "6b04d4f8-5dcb-43df-b32d-dfab2f11ad4b",
   "metadata": {},
   "outputs": [
    {
     "data": {
      "image/png": "[encoded data removed]",
      "text/plain": [
       "<Figure size 432x288 with 1 Axes>"
      ]
     },
     "metadata": {
      "needs_background": "light"
     },
     "output_type": "display_data"
    }
   ],
   "source": [
    "from sklearn import tree\n",
    "tree.plot_tree(dec_tree)\n",
    "plt.show()"
   ]
  },
  {
   "cell_type": "markdown",
   "id": "c48d59c8-1eda-43a4-aca4-30c10b09d8e9",
   "metadata": {
    "tags": []
   },
   "source": [
    "### 隨機森林"
   ]
  },
  {
   "cell_type": "code",
   "execution_count": 75,
   "id": "7b33f9c5-19e8-4f4c-8f8a-ecceabcd560b",
   "metadata": {},
   "outputs": [],
   "source": [
    "from sklearn.ensemble import RandomForestClassifier"
   ]
  },
  {
   "cell_type": "code",
   "execution_count": 76,
   "id": "f4d430d6-4b66-4fad-b6d0-cf8a25920478",
   "metadata": {},
   "outputs": [],
   "source": [
    "from sklearn.model_selection import train_test_split"
   ]
  },
  {
   "cell_type": "code",
   "execution_count": 77,
   "id": "bc967f6d-8e5a-42f5-9f43-f8a3e5ca3dbd",
   "metadata": {},
   "outputs": [],
   "source": [
    "x_train, x_test, y_train, y_test = train_test_split(x, y, test_size=.3, random_state=50)"
   ]
  },
  {
   "cell_type": "code",
   "execution_count": 78,
   "id": "a5571f66-d315-4bc8-b780-f19780d26403",
   "metadata": {},
   "outputs": [],
   "source": [
    "randfo = RandomForestClassifier()"
   ]
  },
  {
   "cell_type": "code",
   "execution_count": 79,
   "id": "a93d0c79-1e6e-4dc7-9c96-b96600f4e2f8",
   "metadata": {},
   "outputs": [
    {
     "data": {
      "text/plain": [
       "RandomForestClassifier()"
      ]
     },
     "execution_count": 79,
     "metadata": {},
     "output_type": "execute_result"
    }
   ],
   "source": [
    "randfo.fit(x_train, y_train)"
   ]
  },
  {
   "cell_type": "code",
   "execution_count": 80,
   "id": "123e5e97-81b2-4ee6-89c2-8739cea13b54",
   "metadata": {},
   "outputs": [],
   "source": [
    "rdf_pt = randfo.predict(x_train)"
   ]
  },
  {
   "cell_type": "markdown",
   "id": "6a127812-0408-458e-9257-54373837c974",
   "metadata": {
    "tags": []
   },
   "source": [
    "### KNN"
   ]
  },
  {
   "cell_type": "code",
   "execution_count": 81,
   "id": "ba4e3fd1-591b-409f-afa4-f401da589d22",
   "metadata": {},
   "outputs": [],
   "source": [
    "from sklearn.neighbors import KNeighborsClassifier"
   ]
  },
  {
   "cell_type": "code",
   "execution_count": 82,
   "id": "f489834a-6658-46cf-a6a0-c230f6183583",
   "metadata": {},
   "outputs": [],
   "source": [
    "train_x, test_x, train_y, test_y = train_test_split(x, y, test_size=.3, random_state=50)"
   ]
  },
  {
   "cell_type": "code",
   "execution_count": 83,
   "id": "7c8b21bf-5322-4217-af90-63020c1cab8c",
   "metadata": {},
   "outputs": [],
   "source": [
    "knn_ml= KNeighborsClassifier()"
   ]
  },
  {
   "cell_type": "code",
   "execution_count": 84,
   "id": "91c5e2b3-c098-4273-b129-caf83998af9a",
   "metadata": {},
   "outputs": [
    {
     "data": {
      "text/plain": [
       "KNeighborsClassifier()"
      ]
     },
     "execution_count": 84,
     "metadata": {},
     "output_type": "execute_result"
    }
   ],
   "source": [
    "knn_ml.fit(train_x, train_y)"
   ]
  },
  {
   "cell_type": "code",
   "execution_count": 85,
   "id": "f9450794-7296-4b41-9d7a-8338abdb0414",
   "metadata": {},
   "outputs": [],
   "source": [
    "knn_mlpt = knn_ml.predict(train_x)     # 繪圖用的"
   ]
  },
  {
   "cell_type": "markdown",
   "id": "f709c214-2e83-49bc-a010-2001d17eeaa7",
   "metadata": {
    "tags": []
   },
   "source": [
    "### SVM\n",
    "- 降維\n",
    "- 四種不同SVC分類器:(kernel=?)\n",
    "    - LinearSVC (線性) [未設定參數]\n",
    "    - kernel='linear' (線性)\n",
    "    - kernel='poly' (非線性)\n",
    "    - kernel='rbf' (非線性)"
   ]
  },
  {
   "cell_type": "code",
   "execution_count": 86,
   "id": "d19ea8d0-ad62-4d9c-aaa5-8b2249351fc4",
   "metadata": {},
   "outputs": [],
   "source": [
    "from sklearn import svm"
   ]
  },
  {
   "cell_type": "code",
   "execution_count": 87,
   "id": "ca726d88-fa7d-4029-af3b-aaf83bd903de",
   "metadata": {},
   "outputs": [],
   "source": [
    "from sklearn.model_selection import train_test_split"
   ]
  },
  {
   "cell_type": "code",
   "execution_count": 88,
   "id": "d9c067ab-e6f3-49ad-8074-cbbb12cb2038",
   "metadata": {},
   "outputs": [],
   "source": [
    "train_x, test_x, train_y, test_y = train_test_split(x, y, test_size=.3, random_state=50)"
   ]
  },
  {
   "cell_type": "markdown",
   "id": "f6f2b18d-45f8-4cfa-afdb-5a32147e9d71",
   "metadata": {
    "colab_type": "text",
    "id": "6J43bih09A47"
   },
   "source": [
    "#### PCA降維\n",
    "- sklearn.decomposition import PCA\n",
    "- 將原先 iris 4個特徵降成2維"
   ]
  },
  {
   "cell_type": "code",
   "execution_count": 89,
   "id": "aed25153-5823-4fed-8f51-f7ee95acf7a9",
   "metadata": {},
   "outputs": [],
   "source": [
    "from sklearn.decomposition import PCA"
   ]
  },
  {
   "cell_type": "code",
   "execution_count": 90,
   "id": "d16c6068-b718-4cd0-a9ff-b375e846989a",
   "metadata": {},
   "outputs": [],
   "source": [
    "pca = PCA(n_components=2)\n",
    "train_reduced = pca.fit_transform(train_x)"
   ]
  },
  {
   "cell_type": "code",
   "execution_count": 91,
   "id": "94296cc2-d5e7-47f2-8a99-ac7fae78b337",
   "metadata": {},
   "outputs": [],
   "source": [
    "svm_ml = svm.LinearSVC()"
   ]
  },
  {
   "cell_type": "code",
   "execution_count": 92,
   "id": "43c50f2d-9ad6-4123-83f4-d642e3db53a3",
   "metadata": {},
   "outputs": [],
   "source": [
    "svm_ml.fit(train_reduced, train_y)\n",
    "svm_pt = svm_ml.predict(train_reduced)    # 繪圖用的"
   ]
  },
  {
   "cell_type": "markdown",
   "id": "772ce5df-9e44-4b9d-8f2e-14ae4defbd3d",
   "metadata": {
    "tags": []
   },
   "source": [
    "### XGBoost"
   ]
  },
  {
   "cell_type": "code",
   "execution_count": 93,
   "id": "bff88c0e-5016-446e-9687-56dab4f726c2",
   "metadata": {},
   "outputs": [],
   "source": [
    "from xgboost import XGBClassifier"
   ]
  },
  {
   "cell_type": "code",
   "execution_count": 94,
   "id": "8ac64f7f-cc0c-4bb8-927c-9bf4c07e0acb",
   "metadata": {},
   "outputs": [],
   "source": [
    "from sklearn.model_selection import train_test_split"
   ]
  },
  {
   "cell_type": "code",
   "execution_count": 95,
   "id": "83d19b39-e2ff-4a3a-bb50-445849fdcdf5",
   "metadata": {},
   "outputs": [],
   "source": [
    "train_x, test_x, train_y, test_y =train_test_split(x, y, test_size=.3, random_state=50)"
   ]
  },
  {
   "cell_type": "code",
   "execution_count": 96,
   "id": "f1445a14-1970-41f7-9efb-4571db1cc193",
   "metadata": {},
   "outputs": [],
   "source": [
    "xgbc = XGBClassifier()"
   ]
  },
  {
   "cell_type": "code",
   "execution_count": 97,
   "id": "35e50a98-f243-44df-a91f-969243fe2718",
   "metadata": {},
   "outputs": [
    {
     "name": "stderr",
     "output_type": "stream",
     "text": [
      "C:\\Users\\user\\anaconda3\\lib\\site-packages\\xgboost\\sklearn.py:1224: UserWarning: The use of label encoder in XGBClassifier is deprecated and will be removed in a future release. To remove this warning, do the following: 1) Pass option use_label_encoder=False when constructing XGBClassifier object; and 2) Encode your labels (y) as integers starting with 0, i.e. 0, 1, 2, ..., [num_class - 1].\n",
      "  warnings.warn(label_encoder_deprecation_msg, UserWarning)\n"
     ]
    },
    {
     "name": "stdout",
     "output_type": "stream",
     "text": [
      "[22:35:35] WARNING: C:/Users/Administrator/workspace/xgboost-win64_release_1.5.0/src/learner.cc:1115: Starting in XGBoost 1.3.0, the default evaluation metric used with the objective 'multi:softprob' was changed from 'merror' to 'mlogloss'. Explicitly set eval_metric if you'd like to restore the old behavior.\n"
     ]
    },
    {
     "data": {
      "text/plain": [
       "XGBClassifier(base_score=0.5, booster='gbtree', colsample_bylevel=1,\n",
       "              colsample_bynode=1, colsample_bytree=1, enable_categorical=False,\n",
       "              gamma=0, gpu_id=-1, importance_type=None,\n",
       "              interaction_constraints='', learning_rate=0.300000012,\n",
       "              max_delta_step=0, max_depth=6, min_child_weight=1, missing=nan,\n",
       "              monotone_constraints='()', n_estimators=100, n_jobs=4,\n",
       "              num_parallel_tree=1, objective='multi:softprob', predictor='auto',\n",
       "              random_state=0, reg_alpha=0, reg_lambda=1, scale_pos_weight=None,\n",
       "              subsample=1, tree_method='exact', validate_parameters=1,\n",
       "              verbosity=None)"
      ]
     },
     "execution_count": 97,
     "metadata": {},
     "output_type": "execute_result"
    }
   ],
   "source": [
    "xgbc.fit(train_x, train_y)"
   ]
  },
  {
   "cell_type": "code",
   "execution_count": 98,
   "id": "1657da6a-e1f6-47c0-b09c-1d053af8f6a0",
   "metadata": {},
   "outputs": [],
   "source": [
    "xgbc_pt = xgbc.predict(train_x)  # 繪圖用的"
   ]
  },
  {
   "cell_type": "markdown",
   "id": "7a42a533-3718-446f-ab05-c9a5a0bf3bf4",
   "metadata": {
    "tags": []
   },
   "source": [
    "### 羅吉斯"
   ]
  },
  {
   "cell_type": "code",
   "execution_count": 99,
   "id": "41b64736-5cad-4954-b95e-6ffb013a4152",
   "metadata": {},
   "outputs": [],
   "source": [
    "from sklearn.linear_model import LogisticRegression"
   ]
  },
  {
   "cell_type": "code",
   "execution_count": 100,
   "id": "bb6c7a46-40ff-4aa2-ad00-9fe0a3b944c1",
   "metadata": {},
   "outputs": [],
   "source": [
    "from sklearn.model_selection import train_test_split"
   ]
  },
  {
   "cell_type": "code",
   "execution_count": 101,
   "id": "3aa0e740-fed0-4738-90d3-3ede9bf626b5",
   "metadata": {},
   "outputs": [],
   "source": [
    "train_x, test_x, train_y, test_y = train_test_split(x, y, test_size=.3, random_state=50)"
   ]
  },
  {
   "cell_type": "code",
   "execution_count": 102,
   "id": "7376da66-f381-4583-83fa-f9b788e5edbd",
   "metadata": {},
   "outputs": [],
   "source": [
    "logcv = LogisticRegression()"
   ]
  },
  {
   "cell_type": "code",
   "execution_count": 103,
   "id": "659d575e-7766-418e-916e-4acc98ef1513",
   "metadata": {},
   "outputs": [
    {
     "data": {
      "text/plain": [
       "LogisticRegression()"
      ]
     },
     "execution_count": 103,
     "metadata": {},
     "output_type": "execute_result"
    }
   ],
   "source": [
    "logcv.fit(train_x, train_y)"
   ]
  },
  {
   "cell_type": "code",
   "execution_count": 104,
   "id": "2a41f4a4-593f-46d6-8a23-da05f1dd7491",
   "metadata": {},
   "outputs": [],
   "source": [
    "logcv_pt = logcv.predict(train_x)   # 繪圖用"
   ]
  },
  {
   "cell_type": "markdown",
   "id": "62a0279a-3268-48ad-b08e-193eaec970dc",
   "metadata": {},
   "source": [
    "# 評估  ->.fit()"
   ]
  },
  {
   "cell_type": "markdown",
   "id": "4f1920c2-5f48-47b0-8d69-54f0ef9a1cda",
   "metadata": {
    "tags": []
   },
   "source": [
    "### K-means\n",
    "- Silhouette Coefficient 越大代表分群效果越好"
   ]
  },
  {
   "cell_type": "code",
   "execution_count": 105,
   "id": "44b6bde5-be5d-4e12-a9f6-cdb742a663c0",
   "metadata": {},
   "outputs": [],
   "source": [
    "from sklearn.metrics import silhouette_score"
   ]
  },
  {
   "cell_type": "code",
   "execution_count": 106,
   "id": "ec85f894-8b1c-4ceb-9ac8-d1985e8b3bb0",
   "metadata": {},
   "outputs": [],
   "source": [
    "KM_scores = silhouette_score(x, K_fit)"
   ]
  },
  {
   "cell_type": "code",
   "execution_count": 107,
   "id": "536f6f99-2d25-4c9c-afcc-2f4e9f8a95fc",
   "metadata": {},
   "outputs": [
    {
     "data": {
      "text/plain": [
       "0.5525919445499757"
      ]
     },
     "execution_count": 107,
     "metadata": {},
     "output_type": "execute_result"
    }
   ],
   "source": [
    "KM_scores"
   ]
  },
  {
   "cell_type": "markdown",
   "id": "39e1196d-f8d5-4d43-bc99-5ea6ffb5b89a",
   "metadata": {
    "tags": []
   },
   "source": [
    "### 決策樹"
   ]
  },
  {
   "cell_type": "code",
   "execution_count": 108,
   "id": "ec16bfac-2e3c-4786-8fe8-7e42ff288678",
   "metadata": {},
   "outputs": [
    {
     "name": "stdout",
     "output_type": "stream",
     "text": [
      "訓練集: 1.0\n",
      "測試集: 0.9555555555555556\n"
     ]
    }
   ],
   "source": [
    "print('訓練集:', dec_tree.score(train_x, train_y))\n",
    "print('測試集:', dec_tree.score(test_x, test_y))"
   ]
  },
  {
   "cell_type": "markdown",
   "id": "c146f145-c6b5-4f78-baae-316543970d3b",
   "metadata": {
    "tags": []
   },
   "source": [
    "### 隨機森林"
   ]
  },
  {
   "cell_type": "code",
   "execution_count": 109,
   "id": "7399c493-dd4d-4035-a30d-f5f366c56d53",
   "metadata": {},
   "outputs": [
    {
     "name": "stdout",
     "output_type": "stream",
     "text": [
      "訓練集: 1.0\n",
      "測試集: 0.9555555555555556\n"
     ]
    }
   ],
   "source": [
    "print('訓練集:', randfo.score(train_x, train_y))\n",
    "print('測試集:', randfo.score(test_x, test_y))"
   ]
  },
  {
   "cell_type": "code",
   "execution_count": 110,
   "id": "37acd703-712b-402c-ae7b-7eb469b8ecbf",
   "metadata": {},
   "outputs": [
    {
     "name": "stdout",
     "output_type": "stream",
     "text": [
      "特徵重要程度:  [0.1150715  0.02994597 0.41053495 0.44444758]\n"
     ]
    }
   ],
   "source": [
    "print('特徵重要程度: ', randfo.feature_importances_)"
   ]
  },
  {
   "cell_type": "markdown",
   "id": "5595e86b-e218-4df1-9ff1-3b8d30faf1f1",
   "metadata": {
    "tags": []
   },
   "source": [
    "### KNN"
   ]
  },
  {
   "cell_type": "code",
   "execution_count": 111,
   "id": "9210b837-1dfb-4e02-add1-9d00c6e51048",
   "metadata": {},
   "outputs": [
    {
     "name": "stdout",
     "output_type": "stream",
     "text": [
      "訓練集: 0.9714285714285714\n",
      "測試集: 0.9333333333333333\n"
     ]
    }
   ],
   "source": [
    "print('訓練集:', knn_ml.score(train_x, train_y))\n",
    "print('測試集:', knn_ml.score(test_x, test_y))"
   ]
  },
  {
   "cell_type": "markdown",
   "id": "efffec97-964e-41b3-b3eb-54dd21e409f3",
   "metadata": {
    "tags": []
   },
   "source": [
    "### SVM"
   ]
  },
  {
   "cell_type": "code",
   "execution_count": 112,
   "id": "363b0c92-87dc-48da-941e-7f34763f53d7",
   "metadata": {},
   "outputs": [
    {
     "name": "stdout",
     "output_type": "stream",
     "text": [
      "準確度: 0.9523809523809523\n"
     ]
    }
   ],
   "source": [
    "print('準確度:', svm_ml.score(train_reduced, train_y))"
   ]
  },
  {
   "cell_type": "markdown",
   "id": "72d9c584-4cd2-43e9-a028-79f26d3e8e2b",
   "metadata": {
    "colab_type": "text",
    "id": "HQkySb8n9A45"
   },
   "source": [
    "##### 繪製決策邊界 Function\n",
    "- meshgrid()網格搜尋函式"
   ]
  },
  {
   "cell_type": "code",
   "execution_count": 113,
   "id": "fc3a598f-5a69-4198-b264-c0c2acfb81b6",
   "metadata": {
    "colab": {},
    "colab_type": "code",
    "executionInfo": {
     "elapsed": 3482,
     "status": "ok",
     "timestamp": 1600344368259,
     "user": {
      "displayName": "10程式中",
      "photoUrl": "https://lh3.googleusercontent.com/a-/AOh14Gjcm9yF5nSbP1WaeQuXtTScTGduCrixXG-vKBG1=s64",
      "userId": "05620490010612616832"
     },
     "user_tz": -480
    },
    "id": "aOGmIica9A45"
   },
   "outputs": [],
   "source": [
    "def make_meshgrid(x, y, h=.02):\n",
    "    x_min, x_max = x.min() - 1, x.max() + 1\n",
    "    y_min, y_max = y.min() - 1, y.max() + 1\n",
    "    xx, yy = np.meshgrid(np.arange(x_min, x_max, h),\n",
    "                         np.arange(y_min, y_max, h))\n",
    "    return xx, yy\n",
    "\n",
    "\n",
    "def plot_contours(ax, clf, xx, yy, **params):\n",
    "    Z = clf.predict(np.c_[xx.ravel(), yy.ravel()])\n",
    "    Z = Z.reshape(xx.shape)\n",
    "    out = ax.contourf(xx, yy, Z, **params)\n",
    "    return out"
   ]
  },
  {
   "cell_type": "code",
   "execution_count": 114,
   "id": "ed0c2415-f6bb-4684-9a9e-e1de0f711245",
   "metadata": {},
   "outputs": [
    {
     "data": {
      "image/png": "[encoded data removed]",
      "text/plain": [
       "<Figure size 432x288 with 1 Axes>"
      ]
     },
     "metadata": {
      "needs_background": "light"
     },
     "output_type": "display_data"
    }
   ],
   "source": [
    "X0, X1 = train_reduced[:, 0], train_reduced[:, 1]\n",
    "xx, yy = make_meshgrid(X0, X1)\n",
    "plot_contours(plt, svm_ml, xx, yy, cmap=plt.cm.coolwarm, alpha=0.8)\n",
    "plt.scatter(X0, X1, c=y_train, cmap=plt.cm.coolwarm, s=20, edgecolors='k')\n",
    "plt.xlabel('Sepal length')\n",
    "plt.ylabel('Sepal width')\n",
    "plt.title('LinearSVC (linear kernel)'+ '\\n' + 'Accuracy:{:.2f}'.format(dec_tree.score(test_x, test_y)))\n",
    "plt.show()"
   ]
  },
  {
   "cell_type": "markdown",
   "id": "12d102de-cb6c-4e8b-9ef7-f0658c544ece",
   "metadata": {
    "tags": []
   },
   "source": [
    "### XGBoost"
   ]
  },
  {
   "cell_type": "code",
   "execution_count": 115,
   "id": "7cf25550-1505-482e-a9c4-ff907a11646d",
   "metadata": {},
   "outputs": [
    {
     "name": "stdout",
     "output_type": "stream",
     "text": [
      "訓練集: 1.0\n",
      "測試集: 0.9555555555555556\n"
     ]
    }
   ],
   "source": [
    "print('訓練集:', xgbc.score(train_x, train_y))\n",
    "print('測試集:', xgbc.score(test_x, test_y))"
   ]
  },
  {
   "cell_type": "code",
   "execution_count": 116,
   "id": "a6b45edf-541a-4ff2-b5a5-22abaaceb738",
   "metadata": {},
   "outputs": [
    {
     "name": "stdout",
     "output_type": "stream",
     "text": [
      "特徵重要程度:  [0.03303243 0.01450617 0.5782917  0.37416968]\n"
     ]
    },
    {
     "data": {
      "image/png": "[encoded data removed]",
      "text/plain": [
       "<Figure size 432x288 with 1 Axes>"
      ]
     },
     "metadata": {
      "needs_background": "light"
     },
     "output_type": "display_data"
    }
   ],
   "source": [
    "from xgboost import plot_importance\n",
    "plot_importance(xgbc)\n",
    "print('特徵重要程度: ',xgbc.feature_importances_)"
   ]
  },
  {
   "cell_type": "markdown",
   "id": "3d0863d5-8e32-4acc-9b74-7ce53a13deae",
   "metadata": {},
   "source": [
    "### 羅吉斯"
   ]
  },
  {
   "cell_type": "code",
   "execution_count": 117,
   "id": "141fad05-6e9a-446e-ae9a-dbb160d143e2",
   "metadata": {},
   "outputs": [
    {
     "name": "stdout",
     "output_type": "stream",
     "text": [
      "訓練集: 0.9809523809523809\n",
      "測試集: 0.9777777777777777\n"
     ]
    }
   ],
   "source": [
    "print('訓練集:', logcv.score(train_x, train_y))\n",
    "print('測試集:', logcv.score(test_x, test_y))"
   ]
  },
  {
   "cell_type": "markdown",
   "id": "84bc4c7f-1862-49f4-899e-d13ad493ac24",
   "metadata": {},
   "source": [
    "# 優化模型(提高準確度)"
   ]
  },
  {
   "cell_type": "markdown",
   "id": "5bad61e4-c5e7-4468-b8a4-e8a73001ae49",
   "metadata": {},
   "source": [
    "K-means\n",
    "- The Elbow Method\n",
    "- The Silhouette Method\n",
    "    - 用迴圈試試做10次，找K值\n",
    "    - Klist = [KMeans(n_clusters=k, random_state=46).fit(X) for k in range(1, 10)]\n",
    "    - Klist_1 = [silhouette_score(X, i.labels_)  for i in Klist[1:]]"
   ]
  },
  {
   "cell_type": "code",
   "execution_count": null,
   "id": "0214ce41-f092-415d-85f0-d016060272f6",
   "metadata": {},
   "outputs": [],
   "source": [
    "Klist = [KMeans(n_clusters=i, random_state=10).fit(x)for i in range(1, 10)]"
   ]
  },
  {
   "cell_type": "code",
   "execution_count": 119,
   "id": "f3a772bb-c413-4c06-a2bd-434734641095",
   "metadata": {},
   "outputs": [
    {
     "name": "stderr",
     "output_type": "stream",
     "text": [
      "C:\\Users\\user\\anaconda3\\lib\\site-packages\\sklearn\\cluster\\_kmeans.py:881: UserWarning: KMeans is known to have a memory leak on Windows with MKL, when there are less chunks than available threads. You can avoid it by setting the environment variable OMP_NUM_THREADS=1.\n",
      "  warnings.warn(\n"
     ]
    }
   ],
   "source": [
    "# 記錄每種 K 值建出的 KMeans 模型的成效\n",
    "Klist = []\n",
    "K_sse = []\n",
    "\n",
    "for k in range(1, 10):\n",
    "    kl = KMeans(n_clusters = k, random_state=10).fit(x)\n",
    "    Klist.append(kl)\n",
    "    K_sse.append(kl.inertia_)        # Elbow Method"
   ]
  },
  {
   "cell_type": "code",
   "execution_count": 120,
   "id": "51d53636-b19b-48a3-82c0-e4b53a65d066",
   "metadata": {},
   "outputs": [
    {
     "data": {
      "text/plain": [
       "[KMeans(n_clusters=1, random_state=10),\n",
       " KMeans(n_clusters=2, random_state=10),\n",
       " KMeans(n_clusters=3, random_state=10),\n",
       " KMeans(n_clusters=4, random_state=10),\n",
       " KMeans(n_clusters=5, random_state=10),\n",
       " KMeans(n_clusters=6, random_state=10),\n",
       " KMeans(n_clusters=7, random_state=10),\n",
       " KMeans(random_state=10),\n",
       " KMeans(n_clusters=9, random_state=10)]"
      ]
     },
     "execution_count": 120,
     "metadata": {},
     "output_type": "execute_result"
    }
   ],
   "source": [
    "Klist"
   ]
  },
  {
   "cell_type": "code",
   "execution_count": 121,
   "id": "8bc20502-bffb-4ed6-959b-9a0c33cc20e4",
   "metadata": {},
   "outputs": [
    {
     "data": {
      "image/png": "[encoded data removed]",
      "text/plain": [
       "<Figure size 432x288 with 1 Axes>"
      ]
     },
     "metadata": {
      "needs_background": "light"
     },
     "output_type": "display_data"
    }
   ],
   "source": [
    "plt.plot(range(1, 10), K_sse, \"bo-\")\n",
    "\n",
    "plt.show()"
   ]
  },
  {
   "cell_type": "markdown",
   "id": "2e50256a-c319-474e-90c6-80b75a4d9045",
   "metadata": {},
   "source": [
    "即inertia迅速下降轉為平緩的那個點"
   ]
  },
  {
   "cell_type": "code",
   "execution_count": 122,
   "id": "3e00c976-3325-4a3c-882b-57a8d6899f4c",
   "metadata": {},
   "outputs": [],
   "source": [
    "from sklearn.metrics import silhouette_score\n",
    "Klist_2 = [silhouette_score(x, k.labels_)for k in Klist[1:]]"
   ]
  },
  {
   "cell_type": "code",
   "execution_count": 123,
   "id": "895a35e4-0e92-499f-823c-07cd1b8e4c8a",
   "metadata": {},
   "outputs": [
    {
     "data": {
      "image/png": "[encoded data removed]",
      "text/plain": [
       "<Figure size 432x288 with 1 Axes>"
      ]
     },
     "metadata": {
      "needs_background": "light"
     },
     "output_type": "display_data"
    }
   ],
   "source": [
    "plt.plot(range(2, 10), Klist_2, \"bo-\")\n",
    "plt.show()"
   ]
  },
  {
   "cell_type": "markdown",
   "id": "47e2b857-b199-45ea-81a9-5bd21064ef6d",
   "metadata": {},
   "source": [
    "越大代表分群效果越好"
   ]
  },
  {
   "cell_type": "markdown",
   "id": "6fd63a40-82b8-48ad-a145-181953d1943b",
   "metadata": {},
   "source": [
    "### KNN"
   ]
  },
  {
   "cell_type": "code",
   "execution_count": 124,
   "id": "f788ba5f-f1ea-4776-888a-f0149828abc1",
   "metadata": {},
   "outputs": [
    {
     "data": {
      "image/png": "[encoded data removed]",
      "text/plain": [
       "<Figure size 432x288 with 1 Axes>"
      ]
     },
     "metadata": {
      "needs_background": "light"
     },
     "output_type": "display_data"
    }
   ],
   "source": [
    "from sklearn import metrics\n",
    "\n",
    "KNN_k = []\n",
    "\n",
    "for k in range(1, 100):\n",
    "    knn = KNeighborsClassifier(n_neighbors=k) \n",
    "    knn.fit(x_train, y_train)                 \n",
    "    y_pred = knn.predict(x_test)              # x 測試要 等於期望的預測\n",
    "    KNN_k.append(metrics.accuracy_score(y_test, y_pred)) \n",
    "\n",
    "k_range = range(1,100)\n",
    "plt.plot(k_range, KNN_k)\n",
    "\n",
    "plt.xlabel('k_range')\n",
    "plt.ylabel('KNN_k')\n",
    "plt.show()"
   ]
  },
  {
   "cell_type": "markdown",
   "id": "a3ad9ebf-ca39-487f-88f1-33f72517704a",
   "metadata": {},
   "source": [
    "# 儲存 訓練好的模型\n",
    "- import pickle\n",
    "    - 副檔名.pkl\n",
    "    - 參數 'wb'\n",
    "    -  pickle.dump(模型變數名稱, f)"
   ]
  },
  {
   "cell_type": "code",
   "execution_count": null,
   "id": "bfa8afed-1e90-4fc7-9228-add24440389d",
   "metadata": {},
   "outputs": [],
   "source": [
    "import pickle"
   ]
  },
  {
   "cell_type": "raw",
   "id": "a0890082-a641-4048-b2c7-b2f02b4b99a7",
   "metadata": {},
   "source": [
    "with open('./檔案名稱.pkl', 'wb') as file:\n",
    "    pickle.dump(模型名稱, file)"
   ]
  },
  {
   "cell_type": "markdown",
   "id": "d79d208b-59d7-4ff9-b79d-72a75a15de0e",
   "metadata": {},
   "source": [
    "### 讀取模型\n",
    "- with open('./sentiment_classf.pkl', 'rb') as file:\n",
    "    - pickle.load(file)"
   ]
  },
  {
   "cell_type": "raw",
   "id": "7c09de60-f5fc-4d4e-945e-e040a21a0d23",
   "metadata": {},
   "source": [
    "with open('./檔案名稱.pkl', 'rb') as file:\n",
    "    load_模型名稱 = pickle.load(file)"
   ]
  },
  {
   "cell_type": "markdown",
   "id": "93d29816-c43c-41d7-9a6e-b5966868e439",
   "metadata": {},
   "source": [
    "### 使用模型"
   ]
  },
  {
   "cell_type": "raw",
   "id": "920cda3e-49ac-4abc-ab99-656defdf9d1a",
   "metadata": {},
   "source": [
    "load_模型名稱.predict()"
   ]
  }
 ],
 "metadata": {
  "kernelspec": {
   "display_name": "Python 3 (ipykernel)",
   "language": "python",
   "name": "python3"
  },
  "language_info": {
   "codemirror_mode": {
    "name": "ipython",
    "version": 3
   },
   "file_extension": ".py",
   "mimetype": "text/x-python",
   "name": "python",
   "nbconvert_exporter": "python",
   "pygments_lexer": "ipython3",
   "version": "3.8.11"
  }
 },
 "nbformat": 4,
 "nbformat_minor": 5
}
