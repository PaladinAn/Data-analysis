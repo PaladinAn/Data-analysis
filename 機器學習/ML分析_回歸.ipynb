{
 "cells": [
  {
   "cell_type": "code",
   "execution_count": 1,
   "id": "5bae1699-2e85-4252-bf15-6afb402748a3",
   "metadata": {},
   "outputs": [],
   "source": [
    "import numpy as np\n",
    "import pandas as pd\n",
    "import matplotlib.pyplot as plt\n",
    "import seaborn as sns"
   ]
  },
  {
   "cell_type": "code",
   "execution_count": 2,
   "id": "b9d27074-0925-4ccc-800f-848f8c920266",
   "metadata": {},
   "outputs": [],
   "source": [
    "df = pd.read_csv('iris.csv')"
   ]
  },
  {
   "cell_type": "code",
   "execution_count": 3,
   "id": "87e8c594-7252-4773-8d97-2934ee30b8b7",
   "metadata": {},
   "outputs": [
    {
     "data": {
      "text/html": [
       "<div>\n",
       "<style scoped>\n",
       "    .dataframe tbody tr th:only-of-type {\n",
       "        vertical-align: middle;\n",
       "    }\n",
       "\n",
       "    .dataframe tbody tr th {\n",
       "        vertical-align: top;\n",
       "    }\n",
       "\n",
       "    .dataframe thead th {\n",
       "        text-align: right;\n",
       "    }\n",
       "</style>\n",
       "<table border=\"1\" class=\"dataframe\">\n",
       "  <thead>\n",
       "    <tr style=\"text-align: right;\">\n",
       "      <th></th>\n",
       "      <th>Id</th>\n",
       "      <th>SepalLengthCm</th>\n",
       "      <th>SepalWidthCm</th>\n",
       "      <th>PetalLengthCm</th>\n",
       "      <th>PetalWidthCm</th>\n",
       "      <th>Species</th>\n",
       "    </tr>\n",
       "  </thead>\n",
       "  <tbody>\n",
       "    <tr>\n",
       "      <th>0</th>\n",
       "      <td>1</td>\n",
       "      <td>5.1</td>\n",
       "      <td>3.5</td>\n",
       "      <td>1.4</td>\n",
       "      <td>0.2</td>\n",
       "      <td>Iris-setosa</td>\n",
       "    </tr>\n",
       "    <tr>\n",
       "      <th>1</th>\n",
       "      <td>2</td>\n",
       "      <td>4.9</td>\n",
       "      <td>3.0</td>\n",
       "      <td>1.4</td>\n",
       "      <td>0.2</td>\n",
       "      <td>Iris-setosa</td>\n",
       "    </tr>\n",
       "    <tr>\n",
       "      <th>2</th>\n",
       "      <td>3</td>\n",
       "      <td>4.7</td>\n",
       "      <td>3.2</td>\n",
       "      <td>1.3</td>\n",
       "      <td>0.2</td>\n",
       "      <td>Iris-setosa</td>\n",
       "    </tr>\n",
       "    <tr>\n",
       "      <th>3</th>\n",
       "      <td>4</td>\n",
       "      <td>4.6</td>\n",
       "      <td>3.1</td>\n",
       "      <td>1.5</td>\n",
       "      <td>0.2</td>\n",
       "      <td>Iris-setosa</td>\n",
       "    </tr>\n",
       "    <tr>\n",
       "      <th>4</th>\n",
       "      <td>5</td>\n",
       "      <td>5.0</td>\n",
       "      <td>3.6</td>\n",
       "      <td>1.4</td>\n",
       "      <td>0.2</td>\n",
       "      <td>Iris-setosa</td>\n",
       "    </tr>\n",
       "    <tr>\n",
       "      <th>...</th>\n",
       "      <td>...</td>\n",
       "      <td>...</td>\n",
       "      <td>...</td>\n",
       "      <td>...</td>\n",
       "      <td>...</td>\n",
       "      <td>...</td>\n",
       "    </tr>\n",
       "    <tr>\n",
       "      <th>145</th>\n",
       "      <td>146</td>\n",
       "      <td>6.7</td>\n",
       "      <td>3.0</td>\n",
       "      <td>5.2</td>\n",
       "      <td>2.3</td>\n",
       "      <td>Iris-virginica</td>\n",
       "    </tr>\n",
       "    <tr>\n",
       "      <th>146</th>\n",
       "      <td>147</td>\n",
       "      <td>6.3</td>\n",
       "      <td>2.5</td>\n",
       "      <td>5.0</td>\n",
       "      <td>1.9</td>\n",
       "      <td>Iris-virginica</td>\n",
       "    </tr>\n",
       "    <tr>\n",
       "      <th>147</th>\n",
       "      <td>148</td>\n",
       "      <td>6.5</td>\n",
       "      <td>3.0</td>\n",
       "      <td>5.2</td>\n",
       "      <td>2.0</td>\n",
       "      <td>Iris-virginica</td>\n",
       "    </tr>\n",
       "    <tr>\n",
       "      <th>148</th>\n",
       "      <td>149</td>\n",
       "      <td>6.2</td>\n",
       "      <td>3.4</td>\n",
       "      <td>5.4</td>\n",
       "      <td>2.3</td>\n",
       "      <td>Iris-virginica</td>\n",
       "    </tr>\n",
       "    <tr>\n",
       "      <th>149</th>\n",
       "      <td>150</td>\n",
       "      <td>5.9</td>\n",
       "      <td>3.0</td>\n",
       "      <td>5.1</td>\n",
       "      <td>1.8</td>\n",
       "      <td>Iris-virginica</td>\n",
       "    </tr>\n",
       "  </tbody>\n",
       "</table>\n",
       "<p>150 rows × 6 columns</p>\n",
       "</div>"
      ],
      "text/plain": [
       "      Id  SepalLengthCm  SepalWidthCm  PetalLengthCm  PetalWidthCm  \\\n",
       "0      1            5.1           3.5            1.4           0.2   \n",
       "1      2            4.9           3.0            1.4           0.2   \n",
       "2      3            4.7           3.2            1.3           0.2   \n",
       "3      4            4.6           3.1            1.5           0.2   \n",
       "4      5            5.0           3.6            1.4           0.2   \n",
       "..   ...            ...           ...            ...           ...   \n",
       "145  146            6.7           3.0            5.2           2.3   \n",
       "146  147            6.3           2.5            5.0           1.9   \n",
       "147  148            6.5           3.0            5.2           2.0   \n",
       "148  149            6.2           3.4            5.4           2.3   \n",
       "149  150            5.9           3.0            5.1           1.8   \n",
       "\n",
       "            Species  \n",
       "0       Iris-setosa  \n",
       "1       Iris-setosa  \n",
       "2       Iris-setosa  \n",
       "3       Iris-setosa  \n",
       "4       Iris-setosa  \n",
       "..              ...  \n",
       "145  Iris-virginica  \n",
       "146  Iris-virginica  \n",
       "147  Iris-virginica  \n",
       "148  Iris-virginica  \n",
       "149  Iris-virginica  \n",
       "\n",
       "[150 rows x 6 columns]"
      ]
     },
     "execution_count": 3,
     "metadata": {},
     "output_type": "execute_result"
    }
   ],
   "source": [
    "df"
   ]
  },
  {
   "cell_type": "code",
   "execution_count": 4,
   "id": "5fb07738-84b4-4809-aef1-446d03e0b5e1",
   "metadata": {},
   "outputs": [],
   "source": [
    "from sklearn.preprocessing import LabelEncoder"
   ]
  },
  {
   "cell_type": "code",
   "execution_count": 5,
   "id": "b5c2f5dc-7187-4073-bcb4-cf11d7a95e6c",
   "metadata": {},
   "outputs": [],
   "source": [
    "for i in df:\n",
    "    le = LabelEncoder()\n",
    "    df['Class'] = le.fit_transform(df['Species'])"
   ]
  },
  {
   "cell_type": "code",
   "execution_count": 7,
   "id": "e4d7cc2d-f9a0-4078-8128-1b9805077785",
   "metadata": {},
   "outputs": [
    {
     "data": {
      "text/html": [
       "<div>\n",
       "<style scoped>\n",
       "    .dataframe tbody tr th:only-of-type {\n",
       "        vertical-align: middle;\n",
       "    }\n",
       "\n",
       "    .dataframe tbody tr th {\n",
       "        vertical-align: top;\n",
       "    }\n",
       "\n",
       "    .dataframe thead th {\n",
       "        text-align: right;\n",
       "    }\n",
       "</style>\n",
       "<table border=\"1\" class=\"dataframe\">\n",
       "  <thead>\n",
       "    <tr style=\"text-align: right;\">\n",
       "      <th></th>\n",
       "      <th>Id</th>\n",
       "      <th>SepalLengthCm</th>\n",
       "      <th>SepalWidthCm</th>\n",
       "      <th>PetalLengthCm</th>\n",
       "      <th>PetalWidthCm</th>\n",
       "      <th>Species</th>\n",
       "      <th>Class</th>\n",
       "    </tr>\n",
       "  </thead>\n",
       "  <tbody>\n",
       "    <tr>\n",
       "      <th>0</th>\n",
       "      <td>1</td>\n",
       "      <td>5.1</td>\n",
       "      <td>3.5</td>\n",
       "      <td>1.4</td>\n",
       "      <td>0.2</td>\n",
       "      <td>Iris-setosa</td>\n",
       "      <td>0</td>\n",
       "    </tr>\n",
       "    <tr>\n",
       "      <th>1</th>\n",
       "      <td>2</td>\n",
       "      <td>4.9</td>\n",
       "      <td>3.0</td>\n",
       "      <td>1.4</td>\n",
       "      <td>0.2</td>\n",
       "      <td>Iris-setosa</td>\n",
       "      <td>0</td>\n",
       "    </tr>\n",
       "    <tr>\n",
       "      <th>2</th>\n",
       "      <td>3</td>\n",
       "      <td>4.7</td>\n",
       "      <td>3.2</td>\n",
       "      <td>1.3</td>\n",
       "      <td>0.2</td>\n",
       "      <td>Iris-setosa</td>\n",
       "      <td>0</td>\n",
       "    </tr>\n",
       "    <tr>\n",
       "      <th>3</th>\n",
       "      <td>4</td>\n",
       "      <td>4.6</td>\n",
       "      <td>3.1</td>\n",
       "      <td>1.5</td>\n",
       "      <td>0.2</td>\n",
       "      <td>Iris-setosa</td>\n",
       "      <td>0</td>\n",
       "    </tr>\n",
       "    <tr>\n",
       "      <th>4</th>\n",
       "      <td>5</td>\n",
       "      <td>5.0</td>\n",
       "      <td>3.6</td>\n",
       "      <td>1.4</td>\n",
       "      <td>0.2</td>\n",
       "      <td>Iris-setosa</td>\n",
       "      <td>0</td>\n",
       "    </tr>\n",
       "  </tbody>\n",
       "</table>\n",
       "</div>"
      ],
      "text/plain": [
       "   Id  SepalLengthCm  SepalWidthCm  PetalLengthCm  PetalWidthCm      Species  \\\n",
       "0   1            5.1           3.5            1.4           0.2  Iris-setosa   \n",
       "1   2            4.9           3.0            1.4           0.2  Iris-setosa   \n",
       "2   3            4.7           3.2            1.3           0.2  Iris-setosa   \n",
       "3   4            4.6           3.1            1.5           0.2  Iris-setosa   \n",
       "4   5            5.0           3.6            1.4           0.2  Iris-setosa   \n",
       "\n",
       "   Class  \n",
       "0      0  \n",
       "1      0  \n",
       "2      0  \n",
       "3      0  \n",
       "4      0  "
      ]
     },
     "execution_count": 7,
     "metadata": {},
     "output_type": "execute_result"
    }
   ],
   "source": [
    "df.head()"
   ]
  },
  {
   "cell_type": "code",
   "execution_count": 8,
   "id": "3c02103f-7519-478f-9df8-89431833b55c",
   "metadata": {},
   "outputs": [
    {
     "data": {
      "text/plain": [
       "Id               0\n",
       "SepalLengthCm    0\n",
       "SepalWidthCm     0\n",
       "PetalLengthCm    0\n",
       "PetalWidthCm     0\n",
       "Species          0\n",
       "Class            0\n",
       "dtype: int64"
      ]
     },
     "execution_count": 8,
     "metadata": {},
     "output_type": "execute_result"
    }
   ],
   "source": [
    "df.isna().sum()"
   ]
  },
  {
   "cell_type": "code",
   "execution_count": 9,
   "id": "3bb0879d-7ecb-4242-ba86-580bb1ef1f89",
   "metadata": {},
   "outputs": [
    {
     "data": {
      "text/plain": [
       "Id               0\n",
       "SepalLengthCm    0\n",
       "SepalWidthCm     0\n",
       "PetalLengthCm    0\n",
       "PetalWidthCm     0\n",
       "Species          0\n",
       "Class            0\n",
       "dtype: int64"
      ]
     },
     "execution_count": 9,
     "metadata": {},
     "output_type": "execute_result"
    }
   ],
   "source": [
    "df.isnull().sum()"
   ]
  },
  {
   "cell_type": "code",
   "execution_count": 17,
   "id": "d38d89db-811f-449b-9da7-59f8de7a34b7",
   "metadata": {},
   "outputs": [],
   "source": [
    "df = df.drop(columns=['Id', 'Species'])"
   ]
  },
  {
   "cell_type": "markdown",
   "id": "fcc99c5f-ee6f-4016-aad0-04eca13de588",
   "metadata": {},
   "source": [
    "$Y=aX+b+noise$"
   ]
  },
  {
   "cell_type": "code",
   "execution_count": 18,
   "id": "fc299f7a-e1c2-4fc9-ae92-5d91dd38bfd8",
   "metadata": {},
   "outputs": [],
   "source": [
    "import random"
   ]
  },
  {
   "cell_type": "code",
   "execution_count": 19,
   "id": "7c2076ef-5626-4a0e-9018-b2c930213da7",
   "metadata": {},
   "outputs": [],
   "source": [
    "# 亂數產生資料\n",
    "np.random.seed(0)\n",
    "noise = np.random.rand(100, 1)\n",
    "x = np.random.rand(100, 1)\n",
    "y = 3 * x + 15 + noise\n",
    "# y=ax+b Target function  a=3, b=15"
   ]
  },
  {
   "cell_type": "code",
   "execution_count": 25,
   "id": "66b5653f-c8e5-4221-93e5-35962287991a",
   "metadata": {},
   "outputs": [
    {
     "data": {
      "image/png": "[encoded data removed]",
      "text/plain": [
       "<Figure size 432x288 with 1 Axes>"
      ]
     },
     "metadata": {},
     "output_type": "display_data"
    }
   ],
   "source": [
    "plt.style.use('ggplot')\n",
    "plt.scatter(x, y)\n",
    "plt.xlabel('X')\n",
    "plt.ylabel('Y')\n",
    "plt.show()"
   ]
  },
  {
   "cell_type": "markdown",
   "id": "de41a2bf-88e6-46ca-b273-e83133e56cfb",
   "metadata": {},
   "source": [
    "# 模型\n",
    "- 高級視覺化\n",
    "- seaborn.lmplot() \n",
    "    - 函式使用給定的資料在 FacetGrid 上建立一個基本的散點圖。\n",
    "    - 還可用於通過在圖中繪製可選的迴歸線\n",
    "        - sns.lmplot('label01', \"label02\", hue='分類依據', data=, fit_reg=False)\n",
    "        - 趨勢線功能:fit_reg="
   ]
  },
  {
   "cell_type": "markdown",
   "id": "002487bc-fb55-4ba9-a8f0-386529dd97f1",
   "metadata": {
    "tags": []
   },
   "source": [
    "### 線性"
   ]
  },
  {
   "cell_type": "code",
   "execution_count": 26,
   "id": "b4b495d8-0107-46ad-b5bd-43a6d49aa99d",
   "metadata": {},
   "outputs": [],
   "source": [
    "from sklearn.linear_model import LinearRegression"
   ]
  },
  {
   "cell_type": "code",
   "execution_count": 27,
   "id": "5d2d0102-f8df-440c-add5-e978f8eb39a3",
   "metadata": {},
   "outputs": [],
   "source": [
    "lmR = LinearRegression()"
   ]
  },
  {
   "cell_type": "code",
   "execution_count": 28,
   "id": "2e86c11d-dc9f-4711-bfca-8615b8795453",
   "metadata": {},
   "outputs": [
    {
     "data": {
      "text/plain": [
       "LinearRegression()"
      ]
     },
     "execution_count": 28,
     "metadata": {},
     "output_type": "execute_result"
    }
   ],
   "source": [
    "lmR.fit(x, y)"
   ]
  },
  {
   "cell_type": "code",
   "execution_count": 29,
   "id": "21d824e6-6c91-424a-9653-d86b74e63ed9",
   "metadata": {},
   "outputs": [],
   "source": [
    "lmR_pt = lmR.predict(x)"
   ]
  },
  {
   "cell_type": "markdown",
   "id": "72323d27-137e-4d78-93dd-b419950805a5",
   "metadata": {
    "tags": []
   },
   "source": [
    "### 決策樹"
   ]
  },
  {
   "cell_type": "code",
   "execution_count": 34,
   "id": "93922079-0710-49a2-8dcd-40027441dc1a",
   "metadata": {},
   "outputs": [],
   "source": [
    "from sklearn.tree import DecisionTreeRegressor"
   ]
  },
  {
   "cell_type": "code",
   "execution_count": 35,
   "id": "82e4e34e-b93c-4dbc-ba1d-c1594b76ef02",
   "metadata": {},
   "outputs": [],
   "source": [
    "dtrr = DecisionTreeRegressor()"
   ]
  },
  {
   "cell_type": "code",
   "execution_count": 36,
   "id": "94705fc3-98c8-4295-9744-d645a61a5953",
   "metadata": {},
   "outputs": [
    {
     "data": {
      "text/plain": [
       "DecisionTreeRegressor()"
      ]
     },
     "execution_count": 36,
     "metadata": {},
     "output_type": "execute_result"
    }
   ],
   "source": [
    "dtrr.fit(x, y)"
   ]
  },
  {
   "cell_type": "code",
   "execution_count": 37,
   "id": "de16acd1-de5b-4440-b887-5addbaa2bd84",
   "metadata": {},
   "outputs": [],
   "source": [
    "dtrr_pt = dtrr.predict(x)"
   ]
  },
  {
   "cell_type": "markdown",
   "id": "cc64b383-cffb-4580-8533-61a672e5b681",
   "metadata": {
    "tags": []
   },
   "source": [
    "### 隨機森林"
   ]
  },
  {
   "cell_type": "code",
   "execution_count": 54,
   "id": "2f734cb1-ea2d-4a14-a64a-1e9be5f2694f",
   "metadata": {},
   "outputs": [],
   "source": [
    "from sklearn.ensemble import RandomForestRegressor"
   ]
  },
  {
   "cell_type": "code",
   "execution_count": 55,
   "id": "f501c969-77c9-4d90-a51c-b9d9f52cc15d",
   "metadata": {},
   "outputs": [],
   "source": [
    "radfor = RandomForestRegressor()"
   ]
  },
  {
   "cell_type": "code",
   "execution_count": 56,
   "id": "2c7f340b-3ba6-4651-99cc-8b30cb5e09ca",
   "metadata": {},
   "outputs": [
    {
     "name": "stderr",
     "output_type": "stream",
     "text": [
      "C:\\Users\\user\\AppData\\Local\\Temp/ipykernel_9996/364422676.py:1: DataConversionWarning: A column-vector y was passed when a 1d array was expected. Please change the shape of y to (n_samples,), for example using ravel().\n",
      "  radfor.fit(x ,y)\n"
     ]
    },
    {
     "data": {
      "text/plain": [
       "RandomForestRegressor()"
      ]
     },
     "execution_count": 56,
     "metadata": {},
     "output_type": "execute_result"
    }
   ],
   "source": [
    "radfor.fit(x ,y)"
   ]
  },
  {
   "cell_type": "code",
   "execution_count": 57,
   "id": "d9b5170c-b1ee-4327-a82f-e1ea923f263f",
   "metadata": {},
   "outputs": [],
   "source": [
    "radfor_pt = radfor.predict(x)"
   ]
  },
  {
   "cell_type": "code",
   "execution_count": null,
   "id": "57016681-ffec-466f-9c51-38df3b678b50",
   "metadata": {},
   "outputs": [],
   "source": []
  },
  {
   "cell_type": "markdown",
   "id": "5b55779d-b711-4cfe-975f-8fa772540a8d",
   "metadata": {
    "tags": []
   },
   "source": [
    "### KNN"
   ]
  },
  {
   "cell_type": "code",
   "execution_count": 62,
   "id": "f02aa130-e792-48ca-bf92-91bb150b3df1",
   "metadata": {},
   "outputs": [],
   "source": [
    "from sklearn.neighbors import KNeighborsRegressor"
   ]
  },
  {
   "cell_type": "code",
   "execution_count": 63,
   "id": "7d29630f-0f7b-4528-92c3-5ddc2239de74",
   "metadata": {},
   "outputs": [],
   "source": [
    "knnr = KNeighborsRegressor()"
   ]
  },
  {
   "cell_type": "code",
   "execution_count": 64,
   "id": "b763772e-14ca-4587-bb47-8e7e10406299",
   "metadata": {},
   "outputs": [
    {
     "data": {
      "text/plain": [
       "KNeighborsRegressor()"
      ]
     },
     "execution_count": 64,
     "metadata": {},
     "output_type": "execute_result"
    }
   ],
   "source": [
    "knnr.fit(x ,y)"
   ]
  },
  {
   "cell_type": "code",
   "execution_count": 65,
   "id": "9448cf29-739d-4abd-9814-29e59119abd0",
   "metadata": {},
   "outputs": [],
   "source": [
    "knnr_pt = knnr.predict(x)"
   ]
  },
  {
   "cell_type": "code",
   "execution_count": null,
   "id": "2bbbfc34-1310-434a-95d6-ab05c010f3f3",
   "metadata": {},
   "outputs": [],
   "source": []
  },
  {
   "cell_type": "markdown",
   "id": "bf3de2ea-8ebe-411f-99a1-ac3766146e53",
   "metadata": {
    "tags": []
   },
   "source": [
    "### SVMR\n",
    "- 四種不同SVC分類器:(kernel=?)\n",
    "    - LinearSVC (線性) [未設定參數]\n",
    "    - kernel='linear' (線性)\n",
    "    - kernel='poly' (非線性)\n",
    "    - kernel='rbf' (非線性)"
   ]
  },
  {
   "cell_type": "code",
   "execution_count": 88,
   "id": "1901fc89-f76f-41b9-877e-787dfa2154b0",
   "metadata": {},
   "outputs": [],
   "source": [
    "from sklearn import svm"
   ]
  },
  {
   "cell_type": "code",
   "execution_count": 89,
   "id": "425cf755-5dad-43de-b44f-00616d78d8e2",
   "metadata": {},
   "outputs": [],
   "source": [
    "svr = svm.SVR(kernel='linear')"
   ]
  },
  {
   "cell_type": "code",
   "execution_count": 90,
   "id": "ef847951-353a-4572-80c6-019816556fad",
   "metadata": {},
   "outputs": [
    {
     "name": "stderr",
     "output_type": "stream",
     "text": [
      "C:\\Users\\user\\anaconda3\\lib\\site-packages\\sklearn\\utils\\validation.py:63: DataConversionWarning: A column-vector y was passed when a 1d array was expected. Please change the shape of y to (n_samples, ), for example using ravel().\n",
      "  return f(*args, **kwargs)\n"
     ]
    },
    {
     "data": {
      "text/plain": [
       "SVR(kernel='linear')"
      ]
     },
     "execution_count": 90,
     "metadata": {},
     "output_type": "execute_result"
    }
   ],
   "source": [
    "svr.fit(x, y)"
   ]
  },
  {
   "cell_type": "code",
   "execution_count": 91,
   "id": "9c0c8694-d4de-4b15-8d24-58947dc5657a",
   "metadata": {},
   "outputs": [],
   "source": [
    "svmr_pt = svr.predict(x)"
   ]
  },
  {
   "cell_type": "markdown",
   "id": "1d967694-7e8b-45b6-b1c0-20904078086a",
   "metadata": {
    "tags": []
   },
   "source": [
    "### XGBoost"
   ]
  },
  {
   "cell_type": "code",
   "execution_count": 95,
   "id": "261d7721-73a2-4161-9f55-b668d3265635",
   "metadata": {},
   "outputs": [],
   "source": [
    "import xgboost as xgb"
   ]
  },
  {
   "cell_type": "code",
   "execution_count": 97,
   "id": "e73a8e5b-2ded-489a-b779-578424b626c8",
   "metadata": {},
   "outputs": [],
   "source": [
    "xgbr = xgb.XGBRegressor()"
   ]
  },
  {
   "cell_type": "code",
   "execution_count": 98,
   "id": "f93c2ebe-0ed8-475d-ba1f-7bdb8fe6ac6d",
   "metadata": {},
   "outputs": [
    {
     "data": {
      "text/plain": [
       "XGBRegressor(base_score=0.5, booster='gbtree', colsample_bylevel=1,\n",
       "             colsample_bynode=1, colsample_bytree=1, enable_categorical=False,\n",
       "             gamma=0, gpu_id=-1, importance_type=None,\n",
       "             interaction_constraints='', learning_rate=0.300000012,\n",
       "             max_delta_step=0, max_depth=6, min_child_weight=1, missing=nan,\n",
       "             monotone_constraints='()', n_estimators=100, n_jobs=4,\n",
       "             num_parallel_tree=1, predictor='auto', random_state=0, reg_alpha=0,\n",
       "             reg_lambda=1, scale_pos_weight=1, subsample=1, tree_method='exact',\n",
       "             validate_parameters=1, verbosity=None)"
      ]
     },
     "execution_count": 98,
     "metadata": {},
     "output_type": "execute_result"
    }
   ],
   "source": [
    "xgbr.fit(x, y)"
   ]
  },
  {
   "cell_type": "code",
   "execution_count": 99,
   "id": "497bd2ac-1080-40eb-a340-b0d33f29529d",
   "metadata": {},
   "outputs": [],
   "source": [
    "xgbr_pt = xgbr.predict(x)"
   ]
  },
  {
   "cell_type": "code",
   "execution_count": null,
   "id": "ec7b6639-9cbc-4aa6-944e-fc5565a24dbf",
   "metadata": {},
   "outputs": [],
   "source": []
  },
  {
   "cell_type": "markdown",
   "id": "3db88fdc-7051-47b2-8f6a-43ec7752e2ad",
   "metadata": {},
   "source": [
    "## 模型評估：\n",
    "- R2: .score()\n",
    "- MSE:from sklearn import metrics"
   ]
  },
  {
   "cell_type": "markdown",
   "id": "6a6e4a11-9cf7-4d11-8d8a-edd0cc0b69b7",
   "metadata": {
    "tags": []
   },
   "source": [
    "### 線性"
   ]
  },
  {
   "cell_type": "code",
   "execution_count": 30,
   "id": "11b9fbed-5185-46fb-8b45-0955ef817d1f",
   "metadata": {},
   "outputs": [],
   "source": [
    "from sklearn import metrics"
   ]
  },
  {
   "cell_type": "code",
   "execution_count": 33,
   "id": "b1625690-c5f4-4078-85a3-2f84501096ba",
   "metadata": {},
   "outputs": [
    {
     "name": "stdout",
     "output_type": "stream",
     "text": [
      "R2: 0.8882579949806879\n",
      "SSE: 0.08275457812228763\n",
      "截距項 [15.50916634]\n",
      "係數項 [[2.93112335]]\n"
     ]
    }
   ],
   "source": [
    "print('R2:', lmR.score(x, y))\n",
    "mse = metrics.mean_squared_error(y, lmR_pt)\n",
    "print('SSE:', mse)\n",
    "print('截距項', lmR.intercept_)\n",
    "print('係數項', lmR.coef_)"
   ]
  },
  {
   "cell_type": "code",
   "execution_count": 32,
   "id": "02042780-63c9-45b1-a209-5ad641589ca3",
   "metadata": {},
   "outputs": [
    {
     "data": {
      "image/png": "[encoded data removed]",
      "text/plain": [
       "<Figure size 432x288 with 1 Axes>"
      ]
     },
     "metadata": {},
     "output_type": "display_data"
    }
   ],
   "source": [
    "plt.style.use('ggplot')\n",
    "plt.scatter(x, y, c='b')\n",
    "plt.scatter(x, lmR_pt, c='r')\n",
    "\n",
    "plt.show()"
   ]
  },
  {
   "cell_type": "markdown",
   "id": "08f40b46-ba5b-4467-9810-5b7c95a9cd0a",
   "metadata": {
    "tags": []
   },
   "source": [
    "### 決策樹"
   ]
  },
  {
   "cell_type": "code",
   "execution_count": 38,
   "id": "9356a44f-6238-4715-8a37-92b90b0475bc",
   "metadata": {},
   "outputs": [],
   "source": [
    "from sklearn import metrics"
   ]
  },
  {
   "cell_type": "code",
   "execution_count": 42,
   "id": "33d721c6-3eb4-432f-bd47-966e1cd92389",
   "metadata": {},
   "outputs": [
    {
     "name": "stdout",
     "output_type": "stream",
     "text": [
      "R2: 1.0\n",
      "SSE: 0.0\n"
     ]
    }
   ],
   "source": [
    "print('R2:', dtrr.score(x, y))\n",
    "sse = metrics.mean_squared_error(y, dtrr_pt)\n",
    "print('SSE:', sse)"
   ]
  },
  {
   "cell_type": "code",
   "execution_count": 53,
   "id": "973e6f07-689e-4a02-b5d0-13871ff2d99d",
   "metadata": {},
   "outputs": [
    {
     "data": {
      "image/png": "[encoded data removed]",
      "text/plain": [
       "<Figure size 864x432 with 1 Axes>"
      ]
     },
     "metadata": {},
     "output_type": "display_data"
    }
   ],
   "source": [
    "plt.style.use('ggplot')\n",
    "plt.figure(figsize=(12,6))\n",
    "plt.scatter(x, y, color='b', s=200)\n",
    "plt.scatter(x, dtrr_pt, color='r')\n",
    "plt.show()"
   ]
  },
  {
   "cell_type": "code",
   "execution_count": null,
   "id": "c8c0d7fb-6450-45bb-ba00-54cac561fb23",
   "metadata": {},
   "outputs": [],
   "source": []
  },
  {
   "cell_type": "markdown",
   "id": "9569691d-ade3-4a56-878e-617303a67eed",
   "metadata": {
    "tags": []
   },
   "source": [
    "### 隨機森林"
   ]
  },
  {
   "cell_type": "code",
   "execution_count": 59,
   "id": "96b19b7c-29c4-4490-bb30-f1c853ea5360",
   "metadata": {},
   "outputs": [
    {
     "name": "stdout",
     "output_type": "stream",
     "text": [
      "R2: 0.9763563982493279\n",
      "SSE: 0.01751012332229141\n"
     ]
    }
   ],
   "source": [
    "from sklearn import metrics\n",
    "print('R2:', radfor.score(x, y))\n",
    "sse = metrics.mean_squared_error(y, radfor_pt)\n",
    "print('SSE:', sse)"
   ]
  },
  {
   "cell_type": "code",
   "execution_count": 61,
   "id": "cb427aa2-c5b5-4b62-92bb-b3c112be18cb",
   "metadata": {},
   "outputs": [
    {
     "data": {
      "image/png": "[encoded data removed]",
      "text/plain": [
       "<Figure size 432x288 with 1 Axes>"
      ]
     },
     "metadata": {},
     "output_type": "display_data"
    }
   ],
   "source": [
    "plt.style.use('ggplot')\n",
    "plt.scatter(x, y, c='b', s=100)\n",
    "plt.scatter(x, radfor_pt, c='r')\n",
    "\n",
    "plt.show()"
   ]
  },
  {
   "cell_type": "markdown",
   "id": "ec533174-5f11-47df-ba23-d5c7869a1a58",
   "metadata": {
    "jp-MarkdownHeadingCollapsed": true,
    "tags": []
   },
   "source": [
    "### KNN"
   ]
  },
  {
   "cell_type": "code",
   "execution_count": 66,
   "id": "339b0654-432a-4dfb-be36-706c3875d4ef",
   "metadata": {},
   "outputs": [
    {
     "name": "stdout",
     "output_type": "stream",
     "text": [
      "R2: 0.9106888137777853\n",
      "SSE: 0.06614262502398359\n"
     ]
    }
   ],
   "source": [
    "from sklearn import metrics\n",
    "print('R2:', knnr.score(x, y))\n",
    "sse = metrics.mean_squared_error(y, knnr_pt)\n",
    "print('SSE:', sse)"
   ]
  },
  {
   "cell_type": "code",
   "execution_count": 67,
   "id": "b6ce9342-c2d3-4d7a-9fe6-03763c9c6e70",
   "metadata": {},
   "outputs": [
    {
     "data": {
      "image/png": "[encoded data removed]",
      "text/plain": [
       "<Figure size 432x288 with 1 Axes>"
      ]
     },
     "metadata": {},
     "output_type": "display_data"
    }
   ],
   "source": [
    "plt.style.use('ggplot')\n",
    "plt.scatter(x, y, c='b', s=100)\n",
    "plt.scatter(x, knnr_pt, c='r')\n",
    "\n",
    "plt.show()"
   ]
  },
  {
   "cell_type": "markdown",
   "id": "91c11ec7-0088-4e36-8894-4479d309ae74",
   "metadata": {
    "tags": []
   },
   "source": [
    "### SVMR\n",
    "- 四種不同SVC分類器:(kernel=?)\n",
    "    - LinearSVC (線性) [未設定參數]\n",
    "    - kernel='linear' (線性)\n",
    "    - kernel='poly' (非線性)\n",
    "    - kernel='rbf' (非線性)"
   ]
  },
  {
   "cell_type": "code",
   "execution_count": 92,
   "id": "bfdd636c-ca07-4414-a40c-949bb3d9d0de",
   "metadata": {},
   "outputs": [
    {
     "name": "stdout",
     "output_type": "stream",
     "text": [
      "R2: 0.8868219068851385\n",
      "SSE: 0.08381812503531369\n"
     ]
    }
   ],
   "source": [
    "from sklearn import metrics\n",
    "print('R2:', svr.score(x, y))\n",
    "sse = metrics.mean_squared_error(y, svmr_pt)\n",
    "print('SSE:', sse)"
   ]
  },
  {
   "cell_type": "code",
   "execution_count": 93,
   "id": "a34a8bea-35af-4f53-b1ef-22b234c83102",
   "metadata": {},
   "outputs": [
    {
     "data": {
      "image/png": "[encoded data removed]",
      "text/plain": [
       "<Figure size 432x288 with 1 Axes>"
      ]
     },
     "metadata": {},
     "output_type": "display_data"
    }
   ],
   "source": [
    "plt.style.use('ggplot')\n",
    "plt.scatter(x, y, c='b', s=100)\n",
    "plt.scatter(x, svmr_pt, c='r')\n",
    "\n",
    "plt.show()"
   ]
  },
  {
   "cell_type": "code",
   "execution_count": null,
   "id": "ab393b2f-2e76-49c3-8e6d-0c83a8ee4493",
   "metadata": {},
   "outputs": [],
   "source": []
  },
  {
   "cell_type": "code",
   "execution_count": null,
   "id": "292702d4-686f-4ae9-b8e8-97783c7d699c",
   "metadata": {},
   "outputs": [],
   "source": []
  },
  {
   "cell_type": "markdown",
   "id": "5b117860-9e43-4d84-8ac1-55307bc15cfa",
   "metadata": {
    "tags": []
   },
   "source": [
    "### XGBoost"
   ]
  },
  {
   "cell_type": "code",
   "execution_count": 104,
   "id": "eb9b29f6-1f32-4c2c-a51e-7a1ee57d0195",
   "metadata": {},
   "outputs": [
    {
     "name": "stdout",
     "output_type": "stream",
     "text": [
      "R2: 0.9996026278089275\n",
      "SSE: 0.00029428832983664365\n"
     ]
    }
   ],
   "source": [
    "from sklearn import metrics\n",
    "print('R2:', xgbr.score(x, y))\n",
    "sse = metrics.mean_squared_error(y, xgbr_pt)\n",
    "print('SSE:', sse)"
   ]
  },
  {
   "cell_type": "code",
   "execution_count": 103,
   "id": "1825df8d-9f99-4f98-9c08-ff63066e509c",
   "metadata": {},
   "outputs": [
    {
     "data": {
      "image/png": "[encoded data removed]",
      "text/plain": [
       "<Figure size 432x288 with 1 Axes>"
      ]
     },
     "metadata": {},
     "output_type": "display_data"
    }
   ],
   "source": [
    "plt.style.use('ggplot')\n",
    "\n",
    "plt.scatter(x, y, c='b', s=100)\n",
    "plt.scatter(x, xgbr_pt, c='r')\n",
    "\n",
    "plt.show()"
   ]
  },
  {
   "cell_type": "code",
   "execution_count": null,
   "id": "262e7a62-855a-4ab8-b766-5d0ad1b33e4d",
   "metadata": {},
   "outputs": [],
   "source": []
  }
 ],
 "metadata": {
  "kernelspec": {
   "display_name": "Python 3 (ipykernel)",
   "language": "python",
   "name": "python3"
  },
  "language_info": {
   "codemirror_mode": {
    "name": "ipython",
    "version": 3
   },
   "file_extension": ".py",
   "mimetype": "text/x-python",
   "name": "python",
   "nbconvert_exporter": "python",
   "pygments_lexer": "ipython3",
   "version": "3.8.11"
  }
 },
 "nbformat": 4,
 "nbformat_minor": 5
}
